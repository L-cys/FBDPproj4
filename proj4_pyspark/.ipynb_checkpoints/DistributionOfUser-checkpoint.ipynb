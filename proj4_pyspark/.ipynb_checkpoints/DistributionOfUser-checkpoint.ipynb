{
 "cells": [
  {
   "cell_type": "code",
   "execution_count": 1,
   "metadata": {},
   "outputs": [],
   "source": [
    "import pandas as pd\n",
    "from pyspark import SparkConf\n",
    "from pyspark import SparkContext\n",
    "from pyspark.sql import SparkSession\n",
    "from operator import add\n",
    "from pyspark.sql.types import *"
   ]
  },
  {
   "cell_type": "code",
   "execution_count": 2,
   "metadata": {},
   "outputs": [],
   "source": [
    "sc = SparkContext('local', 'spark_project')\n",
    "sc.setLogLevel('WARN')\n",
    "spark = SparkSession.builder.getOrCreate()"
   ]
  },
  {
   "cell_type": "code",
   "execution_count": 3,
   "metadata": {},
   "outputs": [],
   "source": [
    "df=spark.read.format('com.databricks.spark.csv').options(header='true', inferschema='true').load('data/log_info_1111.csv')"
   ]
  },
  {
   "cell_type": "code",
   "execution_count": 4,
   "metadata": {},
   "outputs": [],
   "source": [
    "df1 = df.filter(df[\"action_type\"] == 2)"
   ]
  },
  {
   "cell_type": "code",
   "execution_count": 6,
   "metadata": {},
   "outputs": [
    {
     "name": "stdout",
     "output_type": "stream",
     "text": [
      "[(328862, 6.0), (234512, 5.0), (234512, 5.0), (234512, 5.0), (356311, 5.0)]\n"
     ]
    }
   ],
   "source": [
    "rdd1 = df1.select(\"user_id\",\"age_range\").rdd\n",
    "result1 = rdd1.map(lambda x: (x['user_id'],x['age_range']))\n",
    "print(result1.take(5))"
   ]
  },
  {
   "cell_type": "code",
   "execution_count": 11,
   "metadata": {},
   "outputs": [
    {
     "name": "stdout",
     "output_type": "stream",
     "text": [
      "[(234512, 5.0), (186568, 4.0), (92396, 5.0), (37908, 5.0), (66012, 5.0)]\n"
     ]
    }
   ],
   "source": [
    "result2 = result1.groupByKey()\n",
    "result3 = result2.map(lambda x : (x[0],list(x[1]))).map(lambda x: (x[0],x[1][0]))\n",
    "print(result3.take(5))"
   ]
  },
  {
   "cell_type": "code",
   "execution_count": 13,
   "metadata": {},
   "outputs": [
    {
     "name": "stdout",
     "output_type": "stream",
     "text": [
      "[(5.0, 1), (4.0, 1), (5.0, 1), (5.0, 1), (5.0, 1)]\n"
     ]
    }
   ],
   "source": [
    "result4 = result3.map(lambda x : (x[1],x[0])).map(lambda x : (x[0],1))\n",
    "print(result4.take(5))"
   ]
  },
  {
   "cell_type": "code",
   "execution_count": 16,
   "metadata": {},
   "outputs": [],
   "source": [
    "result5 = result4.reduceByKey(lambda a,b:a+b)\n",
    "output = result5.collect()"
   ]
  },
  {
   "cell_type": "code",
   "execution_count": 20,
   "metadata": {},
   "outputs": [
    {
     "name": "stdout",
     "output_type": "stream",
     "text": [
      "4.0: 79991\n",
      "0.0: 92914\n",
      "8.0: 1266\n",
      "None: 2217\n",
      "5.0: 40777\n",
      "1.0: 24\n",
      "6.0: 35464\n",
      "2.0: 52871\n",
      "3.0: 111654\n",
      "7.0: 6992\n"
     ]
    }
   ],
   "source": [
    "for (age_range, count) in output:\n",
    "        print(\"%s: %i\" % (age_range, count))\n",
    "with open('output/age_distribution.txt','w') as f:\n",
    "    for (age_range, count) in output:\n",
    "        f.write(\"%s: %i \\n\" % (age_range, count))"
   ]
  },
  {
   "cell_type": "markdown",
   "metadata": {},
   "source": [
    "Now get into the distribution of gender."
   ]
  },
  {
   "cell_type": "code",
   "execution_count": 21,
   "metadata": {},
   "outputs": [],
   "source": [
    "rdd2 = df1.select(\"user_id\",\"gender\").rdd\n",
    "rs1 = rdd2.map(lambda x: (x['user_id'],x['gender']))\n",
    "rs2 = rs1.groupByKey()\n",
    "rs3 = rs2.map(lambda x : (x[0],list(x[1]))).map(lambda x: (x[0],x[1][0]))\n",
    "rs4 = rs3.map(lambda x : (x[1],x[0])).map(lambda x : (x[0],1))\n",
    "rs5 = rs4.reduceByKey(lambda a,b:a+b)\n",
    "op = rs5.collect()"
   ]
  },
  {
   "cell_type": "code",
   "execution_count": 22,
   "metadata": {},
   "outputs": [
    {
     "name": "stdout",
     "output_type": "stream",
     "text": [
      "0.0: 285638\n",
      "None: 6436\n",
      "1.0: 121670\n",
      "2.0: 10426\n"
     ]
    }
   ],
   "source": [
    "for (gender, count) in op:\n",
    "        print(\"%s: %i\" % (gender, count))\n",
    "with open('output/gender_distribution.txt','w') as f:\n",
    "    for (gender, count) in output:\n",
    "        f.write(\"%s: %i \\n\" % (gender, count))"
   ]
  },
  {
   "cell_type": "code",
   "execution_count": null,
   "metadata": {},
   "outputs": [],
   "source": []
  }
 ],
 "metadata": {
  "kernelspec": {
   "display_name": "Python 3",
   "language": "python",
   "name": "python3"
  },
  "language_info": {
   "codemirror_mode": {
    "name": "ipython",
    "version": 3
   },
   "file_extension": ".py",
   "mimetype": "text/x-python",
   "name": "python",
   "nbconvert_exporter": "python",
   "pygments_lexer": "ipython3",
   "version": "3.7.4"
  }
 },
 "nbformat": 4,
 "nbformat_minor": 2
}
