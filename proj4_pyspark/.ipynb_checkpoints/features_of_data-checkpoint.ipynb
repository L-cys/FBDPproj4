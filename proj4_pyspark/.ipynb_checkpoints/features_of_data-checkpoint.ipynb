{
 "cells": [
  {
   "cell_type": "code",
   "execution_count": 47,
   "metadata": {},
   "outputs": [],
   "source": [
    "import numpy as np\n",
    "import pandas as pd\n",
    "import matplotlib.pyplot as plt\n",
    "import seaborn as sns"
   ]
  },
  {
   "cell_type": "code",
   "execution_count": 2,
   "metadata": {},
   "outputs": [],
   "source": [
    "df_train = pd.read_csv('/Users/chenyuanshan/Downloads/data_format1/train_format1.csv')\n",
    "df_test = pd.read_csv('/Users/chenyuanshan/Downloads/data_format1/test_format1.csv')\n",
    "user_info = pd.read_csv('/Users/chenyuanshan/Downloads/data_format1/user_info_format1.csv')\n",
    "user_log = pd.read_csv('/Users/chenyuanshan/Downloads/data_format1/user_log_format1.csv')"
   ]
  },
  {
   "cell_type": "code",
   "execution_count": 3,
   "metadata": {},
   "outputs": [
    {
     "name": "stdout",
     "output_type": "stream",
     "text": [
      "(260864, 3) (261477, 3)\n",
      "(424170, 3) (54925330, 7)\n"
     ]
    }
   ],
   "source": [
    "print(df_train.shape,df_test.shape)\n",
    "print(user_info.shape,user_log.shape)"
   ]
  },
  {
   "cell_type": "code",
   "execution_count": 4,
   "metadata": {},
   "outputs": [
    {
     "data": {
      "text/plain": [
       "<bound method DataFrame.info of         user_id  age_range  gender\n",
       "0        376517        6.0     1.0\n",
       "1        234512        5.0     0.0\n",
       "2        344532        5.0     0.0\n",
       "3        186135        5.0     0.0\n",
       "4         30230        5.0     0.0\n",
       "...         ...        ...     ...\n",
       "424165   395814        3.0     1.0\n",
       "424166   245950        0.0     1.0\n",
       "424167   208016        NaN     NaN\n",
       "424168   272535        6.0     1.0\n",
       "424169    18031        3.0     1.0\n",
       "\n",
       "[424170 rows x 3 columns]>"
      ]
     },
     "execution_count": 4,
     "metadata": {},
     "output_type": "execute_result"
    }
   ],
   "source": [
    "user_info.info"
   ]
  },
  {
   "cell_type": "code",
   "execution_count": 5,
   "metadata": {},
   "outputs": [
    {
     "data": {
      "text/plain": [
       "<bound method DataFrame.info of           user_id  item_id  cat_id  seller_id  brand_id  time_stamp  \\\n",
       "0          328862   323294     833       2882    2661.0         829   \n",
       "1          328862   844400    1271       2882    2661.0         829   \n",
       "2          328862   575153    1271       2882    2661.0         829   \n",
       "3          328862   996875    1271       2882    2661.0         829   \n",
       "4          328862  1086186    1271       1253    1049.0         829   \n",
       "...           ...      ...     ...        ...       ...         ...   \n",
       "54925325   208016   107662     898       1346    7995.0        1110   \n",
       "54925326   208016  1058313     898       1346    7995.0        1110   \n",
       "54925327   208016   449814     898        983    7995.0        1110   \n",
       "54925328   208016   634856     898       1346    7995.0        1110   \n",
       "54925329   208016   272094     898       1346    7995.0        1111   \n",
       "\n",
       "          action_type  \n",
       "0                   0  \n",
       "1                   0  \n",
       "2                   0  \n",
       "3                   0  \n",
       "4                   0  \n",
       "...               ...  \n",
       "54925325            0  \n",
       "54925326            0  \n",
       "54925327            0  \n",
       "54925328            0  \n",
       "54925329            0  \n",
       "\n",
       "[54925330 rows x 7 columns]>"
      ]
     },
     "execution_count": 5,
     "metadata": {},
     "output_type": "execute_result"
    }
   ],
   "source": [
    "user_log.info"
   ]
  },
  {
   "cell_type": "code",
   "execution_count": 20,
   "metadata": {},
   "outputs": [
    {
     "data": {
      "text/html": [
       "<div>\n",
       "<style scoped>\n",
       "    .dataframe tbody tr th:only-of-type {\n",
       "        vertical-align: middle;\n",
       "    }\n",
       "\n",
       "    .dataframe tbody tr th {\n",
       "        vertical-align: top;\n",
       "    }\n",
       "\n",
       "    .dataframe thead th {\n",
       "        text-align: right;\n",
       "    }\n",
       "</style>\n",
       "<table border=\"1\" class=\"dataframe\">\n",
       "  <thead>\n",
       "    <tr style=\"text-align: right;\">\n",
       "      <th></th>\n",
       "      <th>user_id</th>\n",
       "      <th>age_range</th>\n",
       "      <th>gender</th>\n",
       "    </tr>\n",
       "  </thead>\n",
       "  <tbody>\n",
       "    <tr>\n",
       "      <td>348</td>\n",
       "      <td>169941</td>\n",
       "      <td>4.0</td>\n",
       "      <td>NaN</td>\n",
       "    </tr>\n",
       "    <tr>\n",
       "      <td>351</td>\n",
       "      <td>156396</td>\n",
       "      <td>5.0</td>\n",
       "      <td>NaN</td>\n",
       "    </tr>\n",
       "    <tr>\n",
       "      <td>739</td>\n",
       "      <td>170632</td>\n",
       "      <td>5.0</td>\n",
       "      <td>NaN</td>\n",
       "    </tr>\n",
       "    <tr>\n",
       "      <td>2535</td>\n",
       "      <td>252440</td>\n",
       "      <td>0.0</td>\n",
       "      <td>NaN</td>\n",
       "    </tr>\n",
       "    <tr>\n",
       "      <td>2585</td>\n",
       "      <td>188010</td>\n",
       "      <td>5.0</td>\n",
       "      <td>NaN</td>\n",
       "    </tr>\n",
       "    <tr>\n",
       "      <td>...</td>\n",
       "      <td>...</td>\n",
       "      <td>...</td>\n",
       "      <td>...</td>\n",
       "    </tr>\n",
       "    <tr>\n",
       "      <td>424157</td>\n",
       "      <td>388969</td>\n",
       "      <td>NaN</td>\n",
       "      <td>NaN</td>\n",
       "    </tr>\n",
       "    <tr>\n",
       "      <td>424160</td>\n",
       "      <td>97195</td>\n",
       "      <td>NaN</td>\n",
       "      <td>NaN</td>\n",
       "    </tr>\n",
       "    <tr>\n",
       "      <td>424160</td>\n",
       "      <td>97195</td>\n",
       "      <td>NaN</td>\n",
       "      <td>NaN</td>\n",
       "    </tr>\n",
       "    <tr>\n",
       "      <td>424167</td>\n",
       "      <td>208016</td>\n",
       "      <td>NaN</td>\n",
       "      <td>NaN</td>\n",
       "    </tr>\n",
       "    <tr>\n",
       "      <td>424167</td>\n",
       "      <td>208016</td>\n",
       "      <td>NaN</td>\n",
       "      <td>NaN</td>\n",
       "    </tr>\n",
       "  </tbody>\n",
       "</table>\n",
       "<p>8653 rows × 3 columns</p>\n",
       "</div>"
      ],
      "text/plain": [
       "        user_id  age_range  gender\n",
       "348      169941        4.0     NaN\n",
       "351      156396        5.0     NaN\n",
       "739      170632        5.0     NaN\n",
       "2535     252440        0.0     NaN\n",
       "2585     188010        5.0     NaN\n",
       "...         ...        ...     ...\n",
       "424157   388969        NaN     NaN\n",
       "424160    97195        NaN     NaN\n",
       "424160    97195        NaN     NaN\n",
       "424167   208016        NaN     NaN\n",
       "424167   208016        NaN     NaN\n",
       "\n",
       "[8653 rows x 3 columns]"
      ]
     },
     "execution_count": 20,
     "metadata": {},
     "output_type": "execute_result"
    }
   ],
   "source": [
    "user_info[user_info.isnull().values==True]"
   ]
  },
  {
   "cell_type": "code",
   "execution_count": 21,
   "metadata": {},
   "outputs": [
    {
     "data": {
      "text/plain": [
       "10419"
      ]
     },
     "execution_count": 21,
     "metadata": {},
     "output_type": "execute_result"
    }
   ],
   "source": [
    "user_info_2[user_info_2['gender'] == 2.0]['gender'].count()"
   ]
  },
  {
   "cell_type": "raw",
   "metadata": {},
   "source": [
    "发现在424170有8653 + 10419 = 19072个数据出现缺失值，占比为4%，决定作删除处理。"
   ]
  },
  {
   "cell_type": "code",
   "execution_count": 25,
   "metadata": {},
   "outputs": [],
   "source": [
    "user_info_2 = user_info.dropna()\n",
    "user_info_2 = user_info_2[user_info_2['gender']!=2]"
   ]
  },
  {
   "cell_type": "code",
   "execution_count": 26,
   "metadata": {},
   "outputs": [
    {
     "name": "stdout",
     "output_type": "stream",
     "text": [
      "<class 'pandas.core.frame.DataFrame'>\n",
      "Int64Index: 407289 entries, 0 to 424169\n",
      "Data columns (total 3 columns):\n",
      "user_id      407289 non-null int64\n",
      "age_range    407289 non-null float64\n",
      "gender       407289 non-null float64\n",
      "dtypes: float64(2), int64(1)\n",
      "memory usage: 12.4 MB\n"
     ]
    }
   ],
   "source": [
    "user_info_2.info()"
   ]
  },
  {
   "cell_type": "code",
   "execution_count": 27,
   "metadata": {},
   "outputs": [
    {
     "data": {
      "text/plain": [
       "<bound method DataFrame.info of         user_id  age_range  gender\n",
       "0        376517        6.0     1.0\n",
       "1        234512        5.0     0.0\n",
       "2        344532        5.0     0.0\n",
       "3        186135        5.0     0.0\n",
       "4         30230        5.0     0.0\n",
       "...         ...        ...     ...\n",
       "424164   297789        0.0     1.0\n",
       "424165   395814        3.0     1.0\n",
       "424166   245950        0.0     1.0\n",
       "424168   272535        6.0     1.0\n",
       "424169    18031        3.0     1.0\n",
       "\n",
       "[407289 rows x 3 columns]>"
      ]
     },
     "execution_count": 27,
     "metadata": {},
     "output_type": "execute_result"
    }
   ],
   "source": [
    "user_info_2.info"
   ]
  },
  {
   "cell_type": "code",
   "execution_count": 12,
   "metadata": {},
   "outputs": [
    {
     "data": {
      "text/plain": [
       "0"
      ]
     },
     "execution_count": 12,
     "metadata": {},
     "output_type": "execute_result"
    }
   ],
   "source": [
    "user_info_2[user_info_2['age_range'] == np.nan]['age_range'].count()"
   ]
  },
  {
   "cell_type": "code",
   "execution_count": 28,
   "metadata": {},
   "outputs": [
    {
     "data": {
      "text/plain": [
       "Text(0.5, 1.0, 'Distribution of user age range')"
      ]
     },
     "execution_count": 28,
     "metadata": {},
     "output_type": "execute_result"
    },
    {
     "data": {
      "image/png": "[encoded data removed]",
      "text/plain": [
       "<Figure size 720x432 with 1 Axes>"
      ]
     },
     "metadata": {
      "needs_background": "light"
     },
     "output_type": "display_data"
    }
   ],
   "source": [
    "fig_1=plt.figure(figsize = (10, 6))\n",
    "x_1 = np.array([\"<18\",\"18-24\",\"25-29\",\"30-34\",\"35-39\",\"40-49\",\">=50\"])\n",
    "y_1 = np.array([user_info[user_info['age_range'] == 1]['age_range'].count(),\n",
    "             user_info[user_info['age_range'] == 2]['age_range'].count(),\n",
    "             user_info[user_info['age_range'] == 3]['age_range'].count(),\n",
    "             user_info[user_info['age_range'] == 4]['age_range'].count(),\n",
    "             user_info[user_info['age_range'] == 5]['age_range'].count(),\n",
    "             user_info[user_info['age_range'] == 6]['age_range'].count(),\n",
    "             user_info[user_info['age_range'] == 7]['age_range'].count() \n",
    "                + user_info[user_info['age_range'] == 8]['age_range'].count()])\n",
    "plt.bar(x_1,y_1,label='Count of users')\n",
    "plt.legend()\n",
    "plt.title('Distribution of user age range')\n",
    "                "
   ]
  },
  {
   "cell_type": "code",
   "execution_count": 29,
   "metadata": {},
   "outputs": [
    {
     "data": {
      "text/plain": [
       "Text(0.5, 1.0, 'Distribution of user gender')"
      ]
     },
     "execution_count": 29,
     "metadata": {},
     "output_type": "execute_result"
    },
    {
     "data": {
      "image/png": "[encoded data removed]",
      "text/plain": [
       "<Figure size 432x288 with 1 Axes>"
      ]
     },
     "metadata": {
      "needs_background": "light"
     },
     "output_type": "display_data"
    }
   ],
   "source": [
    "sns.countplot(x = 'gender', order = [0,1], data = user_info_2)\n",
    "plt.title('Distribution of user gender')"
   ]
  },
  {
   "cell_type": "code",
   "execution_count": 30,
   "metadata": {},
   "outputs": [
    {
     "data": {
      "text/plain": [
       "Text(0.5, 1.0, 'User info')"
      ]
     },
     "execution_count": 30,
     "metadata": {},
     "output_type": "execute_result"
    },
    {
     "data": {
      "image/png": "[encoded data removed]",
      "text/plain": [
       "<Figure size 432x288 with 1 Axes>"
      ]
     },
     "metadata": {
      "needs_background": "light"
     },
     "output_type": "display_data"
    }
   ],
   "source": [
    "sns.countplot(x = 'age_range', order = [1,2,3,4,5,6,7,8], hue = 'gender', data = user_info_2)\n",
    "plt.title('User info')"
   ]
  },
  {
   "cell_type": "code",
   "execution_count": 31,
   "metadata": {
    "scrolled": true
   },
   "outputs": [
    {
     "data": {
      "text/plain": [
       "0"
      ]
     },
     "execution_count": 31,
     "metadata": {},
     "output_type": "execute_result"
    }
   ],
   "source": [
    "user_info_2[user_info_2['gender'] == 2.0]['gender'].count()"
   ]
  },
  {
   "cell_type": "code",
   "execution_count": 32,
   "metadata": {},
   "outputs": [
    {
     "data": {
      "text/html": [
       "<div>\n",
       "<style scoped>\n",
       "    .dataframe tbody tr th:only-of-type {\n",
       "        vertical-align: middle;\n",
       "    }\n",
       "\n",
       "    .dataframe tbody tr th {\n",
       "        vertical-align: top;\n",
       "    }\n",
       "\n",
       "    .dataframe thead th {\n",
       "        text-align: right;\n",
       "    }\n",
       "</style>\n",
       "<table border=\"1\" class=\"dataframe\">\n",
       "  <thead>\n",
       "    <tr style=\"text-align: right;\">\n",
       "      <th></th>\n",
       "      <th>user_id</th>\n",
       "      <th>item_id</th>\n",
       "      <th>cat_id</th>\n",
       "      <th>seller_id</th>\n",
       "      <th>brand_id</th>\n",
       "      <th>time_stamp</th>\n",
       "      <th>action_type</th>\n",
       "    </tr>\n",
       "  </thead>\n",
       "  <tbody>\n",
       "    <tr>\n",
       "      <td>4429</td>\n",
       "      <td>198759</td>\n",
       "      <td>558012</td>\n",
       "      <td>346</td>\n",
       "      <td>2242</td>\n",
       "      <td>NaN</td>\n",
       "      <td>1111</td>\n",
       "      <td>2</td>\n",
       "    </tr>\n",
       "    <tr>\n",
       "      <td>10494</td>\n",
       "      <td>398807</td>\n",
       "      <td>692695</td>\n",
       "      <td>1023</td>\n",
       "      <td>2791</td>\n",
       "      <td>NaN</td>\n",
       "      <td>917</td>\n",
       "      <td>1</td>\n",
       "    </tr>\n",
       "    <tr>\n",
       "      <td>11189</td>\n",
       "      <td>289429</td>\n",
       "      <td>989610</td>\n",
       "      <td>845</td>\n",
       "      <td>3139</td>\n",
       "      <td>NaN</td>\n",
       "      <td>801</td>\n",
       "      <td>2</td>\n",
       "    </tr>\n",
       "    <tr>\n",
       "      <td>11334</td>\n",
       "      <td>244974</td>\n",
       "      <td>567529</td>\n",
       "      <td>1349</td>\n",
       "      <td>1503</td>\n",
       "      <td>NaN</td>\n",
       "      <td>1109</td>\n",
       "      <td>1</td>\n",
       "    </tr>\n",
       "    <tr>\n",
       "      <td>11336</td>\n",
       "      <td>244974</td>\n",
       "      <td>1025591</td>\n",
       "      <td>1077</td>\n",
       "      <td>1503</td>\n",
       "      <td>NaN</td>\n",
       "      <td>1109</td>\n",
       "      <td>1</td>\n",
       "    </tr>\n",
       "    <tr>\n",
       "      <td>...</td>\n",
       "      <td>...</td>\n",
       "      <td>...</td>\n",
       "      <td>...</td>\n",
       "      <td>...</td>\n",
       "      <td>...</td>\n",
       "      <td>...</td>\n",
       "      <td>...</td>\n",
       "    </tr>\n",
       "    <tr>\n",
       "      <td>54924317</td>\n",
       "      <td>49540</td>\n",
       "      <td>672801</td>\n",
       "      <td>1468</td>\n",
       "      <td>1056</td>\n",
       "      <td>NaN</td>\n",
       "      <td>1111</td>\n",
       "      <td>1</td>\n",
       "    </tr>\n",
       "    <tr>\n",
       "      <td>54924338</td>\n",
       "      <td>267868</td>\n",
       "      <td>318890</td>\n",
       "      <td>125</td>\n",
       "      <td>4325</td>\n",
       "      <td>NaN</td>\n",
       "      <td>1110</td>\n",
       "      <td>1</td>\n",
       "    </tr>\n",
       "    <tr>\n",
       "      <td>54924390</td>\n",
       "      <td>267868</td>\n",
       "      <td>982887</td>\n",
       "      <td>1505</td>\n",
       "      <td>3049</td>\n",
       "      <td>NaN</td>\n",
       "      <td>1111</td>\n",
       "      <td>1</td>\n",
       "    </tr>\n",
       "    <tr>\n",
       "      <td>54924391</td>\n",
       "      <td>267868</td>\n",
       "      <td>576046</td>\n",
       "      <td>1508</td>\n",
       "      <td>2078</td>\n",
       "      <td>NaN</td>\n",
       "      <td>1111</td>\n",
       "      <td>1</td>\n",
       "    </tr>\n",
       "    <tr>\n",
       "      <td>54924392</td>\n",
       "      <td>267868</td>\n",
       "      <td>947187</td>\n",
       "      <td>1631</td>\n",
       "      <td>2158</td>\n",
       "      <td>NaN</td>\n",
       "      <td>1111</td>\n",
       "      <td>1</td>\n",
       "    </tr>\n",
       "  </tbody>\n",
       "</table>\n",
       "<p>91015 rows × 7 columns</p>\n",
       "</div>"
      ],
      "text/plain": [
       "          user_id  item_id  cat_id  seller_id  brand_id  time_stamp  \\\n",
       "4429       198759   558012     346       2242       NaN        1111   \n",
       "10494      398807   692695    1023       2791       NaN         917   \n",
       "11189      289429   989610     845       3139       NaN         801   \n",
       "11334      244974   567529    1349       1503       NaN        1109   \n",
       "11336      244974  1025591    1077       1503       NaN        1109   \n",
       "...           ...      ...     ...        ...       ...         ...   \n",
       "54924317    49540   672801    1468       1056       NaN        1111   \n",
       "54924338   267868   318890     125       4325       NaN        1110   \n",
       "54924390   267868   982887    1505       3049       NaN        1111   \n",
       "54924391   267868   576046    1508       2078       NaN        1111   \n",
       "54924392   267868   947187    1631       2158       NaN        1111   \n",
       "\n",
       "          action_type  \n",
       "4429                2  \n",
       "10494               1  \n",
       "11189               2  \n",
       "11334               1  \n",
       "11336               1  \n",
       "...               ...  \n",
       "54924317            1  \n",
       "54924338            1  \n",
       "54924390            1  \n",
       "54924391            1  \n",
       "54924392            1  \n",
       "\n",
       "[91015 rows x 7 columns]"
      ]
     },
     "execution_count": 32,
     "metadata": {},
     "output_type": "execute_result"
    }
   ],
   "source": [
    "user_log[user_log.isnull().values==True]"
   ]
  },
  {
   "cell_type": "code",
   "execution_count": 33,
   "metadata": {},
   "outputs": [
    {
     "data": {
      "text/plain": [
       "<bound method DataFrame.info of           user_id  item_id  cat_id  seller_id  brand_id  time_stamp  \\\n",
       "0          328862   323294     833       2882    2661.0         829   \n",
       "1          328862   844400    1271       2882    2661.0         829   \n",
       "2          328862   575153    1271       2882    2661.0         829   \n",
       "3          328862   996875    1271       2882    2661.0         829   \n",
       "4          328862  1086186    1271       1253    1049.0         829   \n",
       "...           ...      ...     ...        ...       ...         ...   \n",
       "54925325   208016   107662     898       1346    7995.0        1110   \n",
       "54925326   208016  1058313     898       1346    7995.0        1110   \n",
       "54925327   208016   449814     898        983    7995.0        1110   \n",
       "54925328   208016   634856     898       1346    7995.0        1110   \n",
       "54925329   208016   272094     898       1346    7995.0        1111   \n",
       "\n",
       "          action_type  \n",
       "0                   0  \n",
       "1                   0  \n",
       "2                   0  \n",
       "3                   0  \n",
       "4                   0  \n",
       "...               ...  \n",
       "54925325            0  \n",
       "54925326            0  \n",
       "54925327            0  \n",
       "54925328            0  \n",
       "54925329            0  \n",
       "\n",
       "[54925330 rows x 7 columns]>"
      ]
     },
     "execution_count": 33,
     "metadata": {},
     "output_type": "execute_result"
    }
   ],
   "source": [
    "user_log.info"
   ]
  },
  {
   "cell_type": "raw",
   "metadata": {},
   "source": [
    "在user_log中，brand出现缺失值，发现有91015条，占0.1%，删除处理。"
   ]
  },
  {
   "cell_type": "code",
   "execution_count": 35,
   "metadata": {},
   "outputs": [],
   "source": [
    "user_log_2 = user_log.dropna()"
   ]
  },
  {
   "cell_type": "code",
   "execution_count": 36,
   "metadata": {},
   "outputs": [
    {
     "data": {
      "text/plain": [
       "<bound method DataFrame.info of           user_id  item_id  cat_id  seller_id  brand_id  time_stamp  \\\n",
       "0          328862   323294     833       2882    2661.0         829   \n",
       "1          328862   844400    1271       2882    2661.0         829   \n",
       "2          328862   575153    1271       2882    2661.0         829   \n",
       "3          328862   996875    1271       2882    2661.0         829   \n",
       "4          328862  1086186    1271       1253    1049.0         829   \n",
       "...           ...      ...     ...        ...       ...         ...   \n",
       "54925325   208016   107662     898       1346    7995.0        1110   \n",
       "54925326   208016  1058313     898       1346    7995.0        1110   \n",
       "54925327   208016   449814     898        983    7995.0        1110   \n",
       "54925328   208016   634856     898       1346    7995.0        1110   \n",
       "54925329   208016   272094     898       1346    7995.0        1111   \n",
       "\n",
       "          action_type  \n",
       "0                   0  \n",
       "1                   0  \n",
       "2                   0  \n",
       "3                   0  \n",
       "4                   0  \n",
       "...               ...  \n",
       "54925325            0  \n",
       "54925326            0  \n",
       "54925327            0  \n",
       "54925328            0  \n",
       "54925329            0  \n",
       "\n",
       "[54834315 rows x 7 columns]>"
      ]
     },
     "execution_count": 36,
     "metadata": {},
     "output_type": "execute_result"
    }
   ],
   "source": [
    "user_log_2.info"
   ]
  },
  {
   "cell_type": "code",
   "execution_count": 37,
   "metadata": {},
   "outputs": [
    {
     "data": {
      "text/plain": [
       "Text(0.5, 1.0, 'Distribution of user action')"
      ]
     },
     "execution_count": 37,
     "metadata": {},
     "output_type": "execute_result"
    },
    {
     "data": {
      "image/png": "[encoded data removed]",
      "text/plain": [
       "<Figure size 432x288 with 1 Axes>"
      ]
     },
     "metadata": {
      "needs_background": "light"
     },
     "output_type": "display_data"
    }
   ],
   "source": [
    "sns.countplot(x = 'action_type',order = [0,1,2,3], data = user_log_2)\n",
    "plt.title('Distribution of user action')"
   ]
  },
  {
   "cell_type": "code",
   "execution_count": 52,
   "metadata": {},
   "outputs": [
    {
     "data": {
      "text/plain": [
       "action_type\n",
       "0    48550713\n",
       "1         171\n",
       "2     3277708\n",
       "3     3005723\n",
       "dtype: int64"
      ]
     },
     "execution_count": 52,
     "metadata": {},
     "output_type": "execute_result"
    }
   ],
   "source": [
    "user_log_2.groupby(by=['action_type']).size()"
   ]
  },
  {
   "cell_type": "code",
   "execution_count": null,
   "metadata": {},
   "outputs": [],
   "source": []
  }
 ],
 "metadata": {
  "kernelspec": {
   "display_name": "Python 3",
   "language": "python",
   "name": "python3"
  },
  "language_info": {
   "codemirror_mode": {
    "name": "ipython",
    "version": 3
   },
   "file_extension": ".py",
   "mimetype": "text/x-python",
   "name": "python",
   "nbconvert_exporter": "python",
   "pygments_lexer": "ipython3",
   "version": "3.7.4"
  }
 },
 "nbformat": 4,
 "nbformat_minor": 2
}
