{
 "cells": [
  {
   "cell_type": "code",
   "execution_count": 2,
   "metadata": {},
   "outputs": [],
   "source": [
    "from __future__ import print_function\n",
    "\n",
    "import pandas as pd\n",
    "from pyspark import SparkConf\n",
    "from pyspark import SparkContext\n",
    "from pyspark.sql import SparkSession\n",
    "from operator import add\n",
    "from pyspark.sql.types import *"
   ]
  },
  {
   "cell_type": "code",
   "execution_count": 3,
   "metadata": {},
   "outputs": [],
   "source": [
    "user_info = pd.read_csv('/Users/chenyuanshan/temp/proj4/data/user_info_format1.csv')\n",
    "user_log = pd.read_csv('/Users/chenyuanshan/temp/proj4/data/user_log_format1.csv')"
   ]
  },
  {
   "cell_type": "code",
   "execution_count": 4,
   "metadata": {},
   "outputs": [],
   "source": [
    "data_1111 = user_log[(user_log['time_stamp'] == 1111)]\n",
    "log_info_csv = pd.merge(data_1111, user_info, on=\"user_id\", how=\"left\")\n"
   ]
  },
  {
   "cell_type": "code",
   "execution_count": 6,
   "metadata": {},
   "outputs": [],
   "source": [
    "log_info_csv.to_csv(\"data/log_info_1111.csv\", index = False)"
   ]
  },
  {
   "cell_type": "code",
   "execution_count": 7,
   "metadata": {},
   "outputs": [],
   "source": [
    "sc = SparkContext('local', 'spark_project')\n",
    "sc.setLogLevel('WARN')\n",
    "spark = SparkSession.builder.getOrCreate()"
   ]
  },
  {
   "cell_type": "code",
   "execution_count": 8,
   "metadata": {},
   "outputs": [],
   "source": [
    "df=spark.read.format('com.databricks.spark.csv').options(header='true', inferschema='true').load('data/log_info_1111.csv')"
   ]
  },
  {
   "cell_type": "code",
   "execution_count": 9,
   "metadata": {},
   "outputs": [
    {
     "name": "stdout",
     "output_type": "stream",
     "text": [
      "root\n",
      " |-- user_id: integer (nullable = true)\n",
      " |-- item_id: integer (nullable = true)\n",
      " |-- cat_id: integer (nullable = true)\n",
      " |-- seller_id: integer (nullable = true)\n",
      " |-- brand_id: double (nullable = true)\n",
      " |-- time_stamp: integer (nullable = true)\n",
      " |-- action_type: integer (nullable = true)\n",
      " |-- age_range: double (nullable = true)\n",
      " |-- gender: double (nullable = true)\n",
      "\n"
     ]
    }
   ],
   "source": [
    "df.printSchema()"
   ]
  },
  {
   "cell_type": "code",
   "execution_count": 10,
   "metadata": {},
   "outputs": [],
   "source": [
    "df.createOrReplaceTempView(\"data\")"
   ]
  },
  {
   "cell_type": "code",
   "execution_count": 20,
   "metadata": {},
   "outputs": [
    {
     "name": "stdout",
     "output_type": "stream",
     "text": [
      "root\n",
      " |-- user_id: integer (nullable = true)\n",
      " |-- item_id: integer (nullable = true)\n",
      " |-- cat_id: integer (nullable = true)\n",
      " |-- seller_id: integer (nullable = true)\n",
      " |-- brand_id: double (nullable = true)\n",
      " |-- time_stamp: integer (nullable = true)\n",
      " |-- action_type: integer (nullable = true)\n",
      " |-- age_range: double (nullable = true)\n",
      " |-- gender: double (nullable = true)\n",
      "\n"
     ]
    }
   ],
   "source": [
    "df1 = df.filter(df[\"action_type\"] != 0)\n",
    "df1.printSchema()"
   ]
  },
  {
   "cell_type": "code",
   "execution_count": 22,
   "metadata": {},
   "outputs": [],
   "source": [
    "itemRDD = df1.select(\"item_id\",\"action_type\").rdd\n",
    "result1 = itemRDD.map(lambda line : (line['item_id'],1))"
   ]
  },
  {
   "cell_type": "code",
   "execution_count": 24,
   "metadata": {},
   "outputs": [
    {
     "name": "stdout",
     "output_type": "stream",
     "text": [
      "[(406349, 1), (240182, 1)]\n"
     ]
    }
   ],
   "source": [
    "print(result1.take(2))"
   ]
  },
  {
   "cell_type": "code",
   "execution_count": 29,
   "metadata": {},
   "outputs": [
    {
     "name": "stdout",
     "output_type": "stream",
     "text": [
      "[(191499, 2494), (353560, 2250), (1059899, 1917), (713695, 1754), (655904, 1674)]\n"
     ]
    }
   ],
   "source": [
    "result2 = result1.reduceByKey(lambda a,b:a+b).sortBy(lambda x:x[1],False)\n"
   ]
  },
  {
   "cell_type": "code",
   "execution_count": 34,
   "metadata": {},
   "outputs": [],
   "source": [
    "outcome = result2.collect()"
   ]
  },
  {
   "cell_type": "code",
   "execution_count": 38,
   "metadata": {},
   "outputs": [],
   "source": [
    "finalOutcome = result2.take(100)\n",
    "with open('output/popular_Item_py.txt','w') as f:\n",
    "    for (item_id, count) in finalOutcome:\n",
    "        f.write(\"%s: %i \\n\" % (item_id, count))"
   ]
  },
  {
   "cell_type": "markdown",
   "metadata": {},
   "source": [
    "Now start with the most popular merchant."
   ]
  },
  {
   "cell_type": "code",
   "execution_count": 37,
   "metadata": {},
   "outputs": [],
   "source": [
    "sellerRDD = df1.select(\"seller_id\",\"action_type\").rdd\n",
    "rs1 = sellerRDD.map(lambda line : (line['seller_id'],1))"
   ]
  },
  {
   "cell_type": "code",
   "execution_count": 40,
   "metadata": {},
   "outputs": [],
   "source": [
    "rs2 = rs1.reduceByKey(lambda a,b:a+b).sortBy(lambda x:x[1],False)\n",
    "oc = rs2.collect()\n",
    "finalOC = rs2.take(100)\n",
    "with open('output/popular_merchant_py.txt','w') as g:\n",
    "    for (merchant_id, count) in finalOC:\n",
    "        g.write(\"%s: %i \\n\" % (merchant_id, count))"
   ]
  },
  {
   "cell_type": "code",
   "execution_count": null,
   "metadata": {},
   "outputs": [],
   "source": []
  }
 ],
 "metadata": {
  "kernelspec": {
   "display_name": "Python 3",
   "language": "python",
   "name": "python3"
  },
  "language_info": {
   "codemirror_mode": {
    "name": "ipython",
    "version": 3
   },
   "file_extension": ".py",
   "mimetype": "text/x-python",
   "name": "python",
   "nbconvert_exporter": "python",
   "pygments_lexer": "ipython3",
   "version": "3.7.4"
  }
 },
 "nbformat": 4,
 "nbformat_minor": 2
}
